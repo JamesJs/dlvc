{
  "nbformat": 4,
  "nbformat_minor": 0,
  "metadata": {
    "accelerator": "GPU",
    "colab": {
      "name": "Tarefa7_SegmentacaoPets.ipynb",
      "provenance": [],
      "collapsed_sections": [],
      "machine_shape": "hm",
      "include_colab_link": true
    },
    "kernelspec": {
      "display_name": "Python 3",
      "name": "python3"
    }
  },
  "cells": [
    {
      "cell_type": "markdown",
      "metadata": {
        "id": "view-in-github",
        "colab_type": "text"
      },
      "source": [
        "<a href=\"https://colab.research.google.com/github/jsansao/dlvc/blob/main/Tarefa7_SegmentacaoPets.ipynb\" target=\"_parent\"><img src=\"https://colab.research.google.com/assets/colab-badge.svg\" alt=\"Open In Colab\"/></a>"
      ]
    },
    {
      "cell_type": "markdown",
      "metadata": {
        "id": "Ghe_V2y_U1fl"
      },
      "source": [
        "# Tarefa 7 - Segmentação do dataset Pets\n",
        "\n",
        "Nessa tarefa, vamos observar o funcionamento do método U-net no dataset \"Pets\".  Notebook retirado do repositório [https://github.com/jakeret/unet](https://github.com/jakeret/unet). \n",
        "\n",
        "\n",
        "1. Rode o notebook com as configurações atuais; \n",
        "2. Opcional - Modifique a profundidade da rede convolucional (em `layer_depth`) e compare o desempenho das métricas e tempo de treinamento. \n",
        "\n"
      ]
    },
    {
      "cell_type": "code",
      "metadata": {
        "id": "9JERZurx39W1",
        "colab": {
          "base_uri": "https://localhost:8080/"
        },
        "outputId": "07c367d2-d2b3-43ac-b9df-a4f48890f76e"
      },
      "source": [
        "!pip install git+https://github.com/jakeret/unet.git"
      ],
      "execution_count": 1,
      "outputs": [
        {
          "output_type": "stream",
          "name": "stdout",
          "text": [
            "Collecting git+https://github.com/jakeret/unet.git\n",
            "  Cloning https://github.com/jakeret/unet.git to /tmp/pip-req-build-4dbx0xsk\n",
            "  Running command git clone -q https://github.com/jakeret/unet.git /tmp/pip-req-build-4dbx0xsk\n",
            "Building wheels for collected packages: unet\n",
            "  Building wheel for unet (setup.py) ... \u001b[?25l\u001b[?25hdone\n",
            "  Created wheel for unet: filename=unet-0.0.post0.dev81+gf557a51-py2.py3-none-any.whl size=25690 sha256=410661f2056cc7f7e8aff271d87af4411940b95f07c5a70203b9838229a4d71d\n",
            "  Stored in directory: /tmp/pip-ephem-wheel-cache-kqw_mi32/wheels/22/00/93/ce57529ed355f160088cbb6ce086e55168770913b40cf624ba\n",
            "Successfully built unet\n",
            "Installing collected packages: unet\n",
            "Successfully installed unet-0.0.post0.dev81+gf557a51\n"
          ]
        }
      ]
    },
    {
      "cell_type": "code",
      "metadata": {
        "id": "7XqmbUtTojIt"
      },
      "source": [
        "%load_ext tensorboard\n",
        "import unet\n",
        "from unet.datasets import oxford_iiit_pet\n",
        "from tensorflow.keras import losses, metrics"
      ],
      "execution_count": 2,
      "outputs": []
    },
    {
      "cell_type": "code",
      "metadata": {
        "id": "54x7pW93ot71"
      },
      "source": [
        "LEARNING_RATE = 1e-3\n",
        "unet_model = unet.build_model(*oxford_iiit_pet.IMAGE_SIZE,\n",
        "                              channels=oxford_iiit_pet.channels,\n",
        "                              num_classes=oxford_iiit_pet.classes,\n",
        "                              layer_depth=5,\n",
        "                              filters_root=64,\n",
        "                              padding=\"same\"\n",
        "                              )\n",
        "\n",
        "unet.finalize_model(unet_model,\n",
        "                    loss=losses.SparseCategoricalCrossentropy(),\n",
        "                    metrics=[metrics.SparseCategoricalAccuracy()],\n",
        "                    auc=False,\n",
        "                    learning_rate=LEARNING_RATE)\n"
      ],
      "execution_count": 5,
      "outputs": []
    },
    {
      "cell_type": "code",
      "metadata": {
        "id": "hu0vy-xxo4WM",
        "colab": {
          "base_uri": "https://localhost:8080/"
        },
        "outputId": "74dbead1-e131-4bf1-d786-718405d0b67a"
      },
      "source": [
        "train_dataset, validation_dataset = oxford_iiit_pet.load_data()"
      ],
      "execution_count": 3,
      "outputs": [
        {
          "output_type": "stream",
          "name": "stdout",
          "text": [
            "\u001b[1mDownloading and preparing dataset oxford_iiit_pet/3.2.0 (download: 773.52 MiB, generated: 774.69 MiB, total: 1.51 GiB) to /root/tensorflow_datasets/oxford_iiit_pet/3.2.0...\u001b[0m\n",
            "Shuffling and writing examples to /root/tensorflow_datasets/oxford_iiit_pet/3.2.0.incompleteY4HNKH/oxford_iiit_pet-train.tfrecord\n",
            "Shuffling and writing examples to /root/tensorflow_datasets/oxford_iiit_pet/3.2.0.incompleteY4HNKH/oxford_iiit_pet-test.tfrecord\n",
            "\u001b[1mDataset oxford_iiit_pet downloaded and prepared to /root/tensorflow_datasets/oxford_iiit_pet/3.2.0. Subsequent calls will reuse this data.\u001b[0m\n"
          ]
        }
      ]
    },
    {
      "cell_type": "code",
      "metadata": {
        "id": "O-jsvZBZsa42"
      },
      "source": [
        "%tensorboard --logdir oxford_iiit_pet"
      ],
      "execution_count": null,
      "outputs": []
    },
    {
      "cell_type": "code",
      "metadata": {
        "id": "yFQ5RoT-tof4",
        "colab": {
          "base_uri": "https://localhost:8080/"
        },
        "outputId": "8fb323a0-f0a2-47ce-df8e-d5872d59977d"
      },
      "source": [
        "trainer = unet.Trainer(name=\"oxford_iiit_pet\", checkpoint_callback=False)\n",
        "trainer.fit(unet_model,\n",
        "            train_dataset,\n",
        "            validation_dataset,\n",
        "            epochs=25,\n",
        "            batch_size=32)"
      ],
      "execution_count": 6,
      "outputs": [
        {
          "output_type": "stream",
          "name": "stdout",
          "text": [
            "Epoch 1/25\n",
            "  6/115 [>.............................] - ETA: 1:39 - loss: 1.7929 - sparse_categorical_accuracy: 0.4362 - mean_iou: 0.3015 - dice_coefficient: 0.8848WARNING:tensorflow:Callback method `on_train_batch_end` is slow compared to the batch time (batch time: 0.4010s vs `on_train_batch_end` time: 0.4365s). Check your callbacks.\n"
          ]
        },
        {
          "output_type": "stream",
          "name": "stderr",
          "text": [
            "WARNING:tensorflow:Callback method `on_train_batch_end` is slow compared to the batch time (batch time: 0.4010s vs `on_train_batch_end` time: 0.4365s). Check your callbacks.\n"
          ]
        },
        {
          "output_type": "stream",
          "name": "stdout",
          "text": [
            "115/115 [==============================] - 158s 1s/step - loss: 1.0358 - sparse_categorical_accuracy: 0.5262 - mean_iou: 0.3039 - dice_coefficient: 0.8890 - val_loss: 0.9092 - val_sparse_categorical_accuracy: 0.5731 - val_mean_iou: 0.3006 - val_dice_coefficient: 0.8931 - learning_rate: 0.0010\n",
            "Epoch 2/25\n",
            "115/115 [==============================] - 125s 1s/step - loss: 0.8491 - sparse_categorical_accuracy: 0.6065 - mean_iou: 0.3016 - dice_coefficient: 0.8890 - val_loss: 0.7503 - val_sparse_categorical_accuracy: 0.6859 - val_mean_iou: 0.3048 - val_dice_coefficient: 0.8931 - learning_rate: 0.0010\n",
            "Epoch 3/25\n",
            "115/115 [==============================] - 125s 1s/step - loss: 0.7158 - sparse_categorical_accuracy: 0.7062 - mean_iou: 0.3064 - dice_coefficient: 0.8890 - val_loss: 0.6840 - val_sparse_categorical_accuracy: 0.7152 - val_mean_iou: 0.3097 - val_dice_coefficient: 0.8931 - learning_rate: 0.0010\n",
            "Epoch 4/25\n",
            "115/115 [==============================] - 125s 1s/step - loss: 0.6631 - sparse_categorical_accuracy: 0.7267 - mean_iou: 0.3079 - dice_coefficient: 0.8890 - val_loss: 0.6367 - val_sparse_categorical_accuracy: 0.7347 - val_mean_iou: 0.3113 - val_dice_coefficient: 0.8931 - learning_rate: 0.0010\n",
            "Epoch 5/25\n",
            "115/115 [==============================] - 125s 1s/step - loss: 0.6315 - sparse_categorical_accuracy: 0.7413 - mean_iou: 0.3095 - dice_coefficient: 0.8890 - val_loss: 0.5856 - val_sparse_categorical_accuracy: 0.7601 - val_mean_iou: 0.3136 - val_dice_coefficient: 0.8931 - learning_rate: 0.0010\n",
            "Epoch 6/25\n",
            "115/115 [==============================] - 125s 1s/step - loss: 0.5937 - sparse_categorical_accuracy: 0.7613 - mean_iou: 0.3117 - dice_coefficient: 0.8890 - val_loss: 0.5456 - val_sparse_categorical_accuracy: 0.7777 - val_mean_iou: 0.3133 - val_dice_coefficient: 0.8931 - learning_rate: 0.0010\n",
            "Epoch 7/25\n",
            "115/115 [==============================] - 124s 1s/step - loss: 0.5420 - sparse_categorical_accuracy: 0.7842 - mean_iou: 0.3144 - dice_coefficient: 0.8890 - val_loss: 0.5325 - val_sparse_categorical_accuracy: 0.7794 - val_mean_iou: 0.3144 - val_dice_coefficient: 0.8931 - learning_rate: 0.0010\n",
            "Epoch 8/25\n",
            "115/115 [==============================] - 125s 1s/step - loss: 0.5120 - sparse_categorical_accuracy: 0.7972 - mean_iou: 0.3161 - dice_coefficient: 0.8890 - val_loss: 0.5145 - val_sparse_categorical_accuracy: 0.7876 - val_mean_iou: 0.3152 - val_dice_coefficient: 0.8931 - learning_rate: 0.0010\n",
            "Epoch 9/25\n",
            "115/115 [==============================] - 124s 1s/step - loss: 0.4921 - sparse_categorical_accuracy: 0.8046 - mean_iou: 0.3171 - dice_coefficient: 0.8890 - val_loss: 0.5119 - val_sparse_categorical_accuracy: 0.7849 - val_mean_iou: 0.3156 - val_dice_coefficient: 0.8931 - learning_rate: 0.0010\n",
            "Epoch 10/25\n",
            "115/115 [==============================] - 123s 1s/step - loss: 0.4646 - sparse_categorical_accuracy: 0.8157 - mean_iou: 0.3185 - dice_coefficient: 0.8890 - val_loss: 0.5085 - val_sparse_categorical_accuracy: 0.7920 - val_mean_iou: 0.3178 - val_dice_coefficient: 0.8931 - learning_rate: 0.0010\n",
            "Epoch 11/25\n",
            "115/115 [==============================] - 140s 1s/step - loss: 0.4700 - sparse_categorical_accuracy: 0.8132 - mean_iou: 0.3181 - dice_coefficient: 0.8890 - val_loss: 0.4494 - val_sparse_categorical_accuracy: 0.8144 - val_mean_iou: 0.3184 - val_dice_coefficient: 0.8931 - learning_rate: 0.0010\n",
            "Epoch 12/25\n",
            "115/115 [==============================] - 123s 1s/step - loss: 0.4436 - sparse_categorical_accuracy: 0.8237 - mean_iou: 0.3197 - dice_coefficient: 0.8890 - val_loss: 0.4588 - val_sparse_categorical_accuracy: 0.8174 - val_mean_iou: 0.3175 - val_dice_coefficient: 0.8931 - learning_rate: 0.0010\n",
            "Epoch 13/25\n",
            "115/115 [==============================] - 140s 1s/step - loss: 0.4234 - sparse_categorical_accuracy: 0.8328 - mean_iou: 0.3210 - dice_coefficient: 0.8890 - val_loss: 0.4896 - val_sparse_categorical_accuracy: 0.7979 - val_mean_iou: 0.3170 - val_dice_coefficient: 0.8931 - learning_rate: 0.0010\n",
            "Epoch 14/25\n",
            "115/115 [==============================] - 123s 1s/step - loss: 0.4195 - sparse_categorical_accuracy: 0.8339 - mean_iou: 0.3213 - dice_coefficient: 0.8890 - val_loss: 0.4644 - val_sparse_categorical_accuracy: 0.8023 - val_mean_iou: 0.3185 - val_dice_coefficient: 0.8931 - learning_rate: 0.0010\n",
            "Epoch 15/25\n",
            "115/115 [==============================] - 140s 1s/step - loss: 0.4150 - sparse_categorical_accuracy: 0.8350 - mean_iou: 0.3214 - dice_coefficient: 0.8890 - val_loss: 0.4113 - val_sparse_categorical_accuracy: 0.8323 - val_mean_iou: 0.3212 - val_dice_coefficient: 0.8931 - learning_rate: 0.0010\n",
            "Epoch 16/25\n",
            "115/115 [==============================] - 124s 1s/step - loss: 0.3999 - sparse_categorical_accuracy: 0.8402 - mean_iou: 0.3224 - dice_coefficient: 0.8890 - val_loss: 0.4276 - val_sparse_categorical_accuracy: 0.8265 - val_mean_iou: 0.3194 - val_dice_coefficient: 0.8931 - learning_rate: 0.0010\n",
            "Epoch 17/25\n",
            "115/115 [==============================] - 124s 1s/step - loss: 0.4062 - sparse_categorical_accuracy: 0.8393 - mean_iou: 0.3221 - dice_coefficient: 0.8890 - val_loss: 0.4080 - val_sparse_categorical_accuracy: 0.8350 - val_mean_iou: 0.3216 - val_dice_coefficient: 0.8931 - learning_rate: 0.0010\n",
            "Epoch 18/25\n",
            "115/115 [==============================] - 123s 1s/step - loss: 0.3925 - sparse_categorical_accuracy: 0.8434 - mean_iou: 0.3229 - dice_coefficient: 0.8890 - val_loss: 0.5010 - val_sparse_categorical_accuracy: 0.7955 - val_mean_iou: 0.3149 - val_dice_coefficient: 0.8931 - learning_rate: 0.0010\n",
            "Epoch 19/25\n",
            "115/115 [==============================] - 140s 1s/step - loss: 0.3797 - sparse_categorical_accuracy: 0.8483 - mean_iou: 0.3236 - dice_coefficient: 0.8890 - val_loss: 0.3890 - val_sparse_categorical_accuracy: 0.8456 - val_mean_iou: 0.3229 - val_dice_coefficient: 0.8931 - learning_rate: 0.0010\n",
            "Epoch 20/25\n",
            "115/115 [==============================] - 123s 1s/step - loss: 0.3903 - sparse_categorical_accuracy: 0.8443 - mean_iou: 0.3231 - dice_coefficient: 0.8890 - val_loss: 0.4088 - val_sparse_categorical_accuracy: 0.8374 - val_mean_iou: 0.3212 - val_dice_coefficient: 0.8931 - learning_rate: 0.0010\n",
            "Epoch 21/25\n",
            "115/115 [==============================] - 140s 1s/step - loss: 0.3827 - sparse_categorical_accuracy: 0.8480 - mean_iou: 0.3236 - dice_coefficient: 0.8890 - val_loss: 0.3874 - val_sparse_categorical_accuracy: 0.8435 - val_mean_iou: 0.3224 - val_dice_coefficient: 0.8931 - learning_rate: 0.0010\n",
            "Epoch 22/25\n",
            "115/115 [==============================] - 124s 1s/step - loss: 0.3710 - sparse_categorical_accuracy: 0.8517 - mean_iou: 0.3242 - dice_coefficient: 0.8890 - val_loss: 0.4452 - val_sparse_categorical_accuracy: 0.8139 - val_mean_iou: 0.3204 - val_dice_coefficient: 0.8931 - learning_rate: 0.0010\n",
            "Epoch 23/25\n",
            "115/115 [==============================] - 140s 1s/step - loss: 0.3609 - sparse_categorical_accuracy: 0.8561 - mean_iou: 0.3251 - dice_coefficient: 0.8890 - val_loss: 0.3985 - val_sparse_categorical_accuracy: 0.8436 - val_mean_iou: 0.3216 - val_dice_coefficient: 0.8931 - learning_rate: 0.0010\n",
            "Epoch 24/25\n",
            "115/115 [==============================] - 123s 1s/step - loss: 0.3561 - sparse_categorical_accuracy: 0.8575 - mean_iou: 0.3252 - dice_coefficient: 0.8890 - val_loss: 0.4216 - val_sparse_categorical_accuracy: 0.8318 - val_mean_iou: 0.3219 - val_dice_coefficient: 0.8931 - learning_rate: 0.0010\n",
            "Epoch 25/25\n",
            "115/115 [==============================] - 123s 1s/step - loss: 0.3623 - sparse_categorical_accuracy: 0.8546 - mean_iou: 0.3248 - dice_coefficient: 0.8890 - val_loss: 0.3887 - val_sparse_categorical_accuracy: 0.8467 - val_mean_iou: 0.3234 - val_dice_coefficient: 0.8931 - learning_rate: 0.0010\n"
          ]
        },
        {
          "output_type": "execute_result",
          "data": {
            "text/plain": [
              "<keras.callbacks.History at 0x7f30301f6a10>"
            ]
          },
          "metadata": {},
          "execution_count": 6
        }
      ]
    },
    {
      "cell_type": "code",
      "metadata": {
        "id": "genUegqf49Qg"
      },
      "source": [
        "%matplotlib inline\n",
        "import matplotlib.pyplot as plt\n"
      ],
      "execution_count": null,
      "outputs": []
    },
    {
      "cell_type": "code",
      "metadata": {
        "id": "pB6fNMP9R1k1"
      },
      "source": [
        "rows = 10\n",
        "fig, axs = plt.subplots(rows, 3, figsize=(8, 30))\n",
        "for ax, (image, label) in zip(axs, train_dataset.take(rows).batch(1)):\n",
        "  \n",
        "  prediction = unet_model.predict(image)\n",
        "  ax[0].matshow(image[0])\n",
        "  ax[1].matshow(label[0, ..., 0], cmap=\"gray\")\n",
        "  ax[2].matshow(prediction[0].argmax(axis=-1), cmap=\"gray\")"
      ],
      "execution_count": null,
      "outputs": []
    }
  ]
}