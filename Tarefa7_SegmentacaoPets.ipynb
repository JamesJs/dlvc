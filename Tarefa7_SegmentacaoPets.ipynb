{
  "nbformat": 4,
  "nbformat_minor": 0,
  "metadata": {
    "accelerator": "GPU",
    "colab": {
      "name": "Tarefa7_SegmentacaoPets.ipynb",
      "provenance": [],
      "collapsed_sections": [],
      "machine_shape": "hm",
      "include_colab_link": true
    },
    "kernelspec": {
      "display_name": "Python 3",
      "name": "python3"
    }
  },
  "cells": [
    {
      "cell_type": "markdown",
      "metadata": {
        "id": "view-in-github",
        "colab_type": "text"
      },
      "source": [
        "<a href=\"https://colab.research.google.com/github/jsansao/dlvc/blob/main/Tarefa7_SegmentacaoPets.ipynb\" target=\"_parent\"><img src=\"https://colab.research.google.com/assets/colab-badge.svg\" alt=\"Open In Colab\"/></a>"
      ]
    },
    {
      "cell_type": "markdown",
      "metadata": {
        "id": "Ghe_V2y_U1fl"
      },
      "source": [
        "# Tarefa 7 - Segmentação do dataset Pets\n",
        "\n",
        "Nessa tarefa, vamos observar o funcionamento do método U-net no dataset \"Pets\".  Notebook retirado do repositório [https://github.com/jakeret/unet](https://github.com/jakeret/unet). \n",
        "\n",
        "\n",
        "1. Rode o notebook com as configurações atuais; \n",
        "2. Opcional - Modifique a profundidade da rede convolucional (em `layer_depth`) e compare o desempenho das métricas e tempo de treinamento. \n",
        "\n"
      ]
    },
    {
      "cell_type": "code",
      "metadata": {
        "id": "9JERZurx39W1"
      },
      "source": [
        "!pip install git+https://github.com/jakeret/unet.git"
      ],
      "execution_count": null,
      "outputs": []
    },
    {
      "cell_type": "code",
      "metadata": {
        "id": "7XqmbUtTojIt"
      },
      "source": [
        "%load_ext tensorboard\n",
        "import unet\n",
        "from unet.datasets import oxford_iiit_pet\n",
        "from tensorflow.keras import losses, metrics"
      ],
      "execution_count": 2,
      "outputs": []
    },
    {
      "cell_type": "code",
      "metadata": {
        "id": "54x7pW93ot71"
      },
      "source": [
        "LEARNING_RATE = 1e-3\n",
        "unet_model = unet.build_model(*oxford_iiit_pet.IMAGE_SIZE,\n",
        "                              channels=oxford_iiit_pet.channels,\n",
        "                              num_classes=oxford_iiit_pet.classes,\n",
        "                              layer_depth=5,\n",
        "                              filters_root=64,\n",
        "                              padding=\"same\"\n",
        "                              )\n",
        "\n",
        "unet.finalize_model(unet_model,\n",
        "                    loss=losses.SparseCategoricalCrossentropy(),\n",
        "                    metrics=[metrics.SparseCategoricalAccuracy()],\n",
        "                    auc=False,\n",
        "                    learning_rate=LEARNING_RATE)\n"
      ],
      "execution_count": 5,
      "outputs": []
    },
    {
      "cell_type": "code",
      "metadata": {
        "id": "hu0vy-xxo4WM"
      },
      "source": [
        "train_dataset, validation_dataset = oxford_iiit_pet.load_data()"
      ],
      "execution_count": null,
      "outputs": []
    },
    {
      "cell_type": "code",
      "metadata": {
        "id": "O-jsvZBZsa42"
      },
      "source": [
        "%tensorboard --logdir oxford_iiit_pet"
      ],
      "execution_count": null,
      "outputs": []
    },
    {
      "cell_type": "code",
      "metadata": {
        "id": "yFQ5RoT-tof4"
      },
      "source": [
        "trainer = unet.Trainer(name=\"oxford_iiit_pet\", checkpoint_callback=False)\n",
        "trainer.fit(unet_model,\n",
        "            train_dataset,\n",
        "            validation_dataset,\n",
        "            epochs=25,\n",
        "            batch_size=32)"
      ],
      "execution_count": null,
      "outputs": []
    },
    {
      "cell_type": "code",
      "metadata": {
        "id": "genUegqf49Qg"
      },
      "source": [
        "%matplotlib inline\n",
        "import matplotlib.pyplot as plt\n"
      ],
      "execution_count": null,
      "outputs": []
    },
    {
      "cell_type": "code",
      "metadata": {
        "id": "pB6fNMP9R1k1"
      },
      "source": [
        "rows = 10\n",
        "fig, axs = plt.subplots(rows, 3, figsize=(8, 30))\n",
        "for ax, (image, label) in zip(axs, train_dataset.take(rows).batch(1)):\n",
        "  \n",
        "  prediction = unet_model.predict(image)\n",
        "  ax[0].matshow(image[0])\n",
        "  ax[1].matshow(label[0, ..., 0], cmap=\"gray\")\n",
        "  ax[2].matshow(prediction[0].argmax(axis=-1), cmap=\"gray\")"
      ],
      "execution_count": null,
      "outputs": []
    }
  ]
}