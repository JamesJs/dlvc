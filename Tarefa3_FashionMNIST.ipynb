{
  "nbformat": 4,
  "nbformat_minor": 0,
  "metadata": {
    "colab": {
      "name": "Tarefa3_FashionMNIST.ipynb",
      "provenance": [],
      "authorship_tag": "ABX9TyNAR3ssjAC6utP4VvHeB2MC",
      "include_colab_link": true
    },
    "kernelspec": {
      "name": "python3",
      "display_name": "Python 3"
    },
    "language_info": {
      "name": "python"
    }
  },
  "cells": [
    {
      "cell_type": "markdown",
      "metadata": {
        "id": "view-in-github",
        "colab_type": "text"
      },
      "source": [
        "<a href=\"https://colab.research.google.com/github/jsansao/dlvc/blob/main/Tarefa3_FashionMNIST.ipynb\" target=\"_parent\"><img src=\"https://colab.research.google.com/assets/colab-badge.svg\" alt=\"Open In Colab\"/></a>"
      ]
    },
    {
      "cell_type": "markdown",
      "metadata": {
        "id": "zuyeukW3cNbd"
      },
      "source": [
        "# Tarefa 3 \n",
        "\n",
        "Para este exercício, veja se é possível melhorar CNN para a Fashion MNIST para uma única camada convolucional com MaxPooling 2D e inclua um callback para interromper o treinamento em 99,8% de acurácia. \n",
        "\n",
        "Use até 20 épocas de treinamento (máximo). \n"
      ]
    },
    {
      "cell_type": "code",
      "metadata": {
        "id": "i80BCAfWcGzF"
      },
      "source": [
        "import tensorflow as tf\n",
        "\n",
        "# YOUR CODE STARTS HERE\n",
        "\n",
        "# YOUR CODE ENDS HERE\n",
        "\n",
        "mnist = tf.keras.datasets.mnist\n",
        "(training_images, training_labels), (test_images, test_labels) = mnist.load_data()\n",
        "\n",
        "# YOUR CODE STARTS HERE\n",
        "\n",
        "# YOUR CODE ENDS HERE\n",
        "\n",
        "model = tf.keras.models.Sequential([\n",
        "    # YOUR CODE STARTS HERE\n",
        "\n",
        "    # YOUR CODE ENDS HERE\n",
        "])\n",
        "\n",
        "# YOUR CODE STARTS HERE\n",
        "\n",
        "# YOUR CODE ENDS HERE"
      ],
      "execution_count": null,
      "outputs": []
    }
  ]
}