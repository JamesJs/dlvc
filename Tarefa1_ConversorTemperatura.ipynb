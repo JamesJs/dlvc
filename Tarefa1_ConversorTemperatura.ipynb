{
  "nbformat": 4,
  "nbformat_minor": 0,
  "metadata": {
    "colab": {
      "name": "Tarefa1_ConversorTemperatura.ipynb",
      "provenance": [],
      "authorship_tag": "ABX9TyM7z9IfeBVdykMFVfbEnqxs",
      "include_colab_link": true
    },
    "kernelspec": {
      "name": "python3",
      "display_name": "Python 3"
    },
    "language_info": {
      "name": "python"
    }
  },
  "cells": [
    {
      "cell_type": "markdown",
      "metadata": {
        "id": "view-in-github",
        "colab_type": "text"
      },
      "source": [
        "<a href=\"https://colab.research.google.com/github/jsansao/dlvc/blob/main/Tarefa1_ConversorTemperatura.ipynb\" target=\"_parent\"><img src=\"https://colab.research.google.com/assets/colab-badge.svg\" alt=\"Open In Colab\"/></a>"
      ]
    },
    {
      "cell_type": "markdown",
      "metadata": {
        "id": "3LW90BwlvOyF"
      },
      "source": [
        "# Tarefa 1 - Conversor de unidades de temperatura\n",
        "\n",
        "Você encontrou um termomêtro com a seguintes escalas (sem a indicação de unidade):\n",
        "\n",
        "|x|y|\n",
        "|--|--|\n",
        "|0 | 32|\n",
        "|5| 41| \n",
        "|10| 50|\n",
        "|20|68|\n",
        "|30|86|\n",
        "|40|104|\n",
        "\n",
        "- Treine uma rede neural para modelar a relação x-y (um neurônio, uma camada)\n",
        "- Qual é a temperatura em y quando x = 38? \n",
        "- Dica: para facilitar a convergência, escalone as entradas (por exemplo dividindo por 10).\n"
      ]
    },
    {
      "cell_type": "code",
      "metadata": {
        "id": "xpMcr2l0vN-E"
      },
      "source": [
        "import tensorflow as tf\n",
        "import numpy as np\n",
        "from tensorflow import keras\n",
        "\n",
        "## escreva o código aqui\n"
      ],
      "execution_count": 46,
      "outputs": []
    }
  ]
}