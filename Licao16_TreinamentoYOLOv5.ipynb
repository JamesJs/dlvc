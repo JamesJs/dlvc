{
  "nbformat": 4,
  "nbformat_minor": 0,
  "metadata": {
    "colab": {
      "name": "Licao16_TreinamentoYOLOv5.ipynb",
      "provenance": [],
      "collapsed_sections": [],
      "include_colab_link": true
    },
    "kernelspec": {
      "name": "python3",
      "display_name": "Python 3"
    },
    "language_info": {
      "name": "python"
    },
    "accelerator": "GPU"
  },
  "cells": [
    {
      "cell_type": "markdown",
      "metadata": {
        "id": "view-in-github",
        "colab_type": "text"
      },
      "source": [
        "<a href=\"https://colab.research.google.com/github/jsansao/dlvc/blob/main/Licao16_TreinamentoYOLOv5.ipynb\" target=\"_parent\"><img src=\"https://colab.research.google.com/assets/colab-badge.svg\" alt=\"Open In Colab\"/></a>"
      ]
    },
    {
      "cell_type": "markdown",
      "metadata": {
        "id": "hrsaDfdVHzxt"
      },
      "source": [
        "# Lição 16 - Treinamento do YOLOv5 para dataset próprio\n",
        "\n",
        "\n",
        "\n",
        "Nessa lição, vamos mostrar como treinar o YOLOv5 para detectar objetos de um dataset próprio. \n",
        "\n",
        "Vamos usar o dataset das peças de Xadrez usado em lição anterior, fornecido pela Roboflow e hospedado no github. \n",
        "\n",
        "O dataset está no formato do YOLO, que difere dos formatos COCO e PASCAL VOC.  "
      ]
    },
    {
      "cell_type": "markdown",
      "metadata": {
        "id": "yNveqeA1KXGy"
      },
      "source": [
        "# Passo 1: Instalação"
      ]
    },
    {
      "cell_type": "code",
      "metadata": {
        "id": "kTvDNSILZoN9"
      },
      "source": [
        "#clone YOLOv5 and \n",
        "!git clone https://github.com/ultralytics/yolov5  # clone repo\n",
        "%cd yolov5\n",
        "%pip install -qr requirements.txt # install dependencies\n",
        "%pip install -q roboflow\n",
        "\n",
        "import torch\n",
        "import os\n",
        "from IPython.display import Image, clear_output  # to display images\n",
        "\n",
        "print(f\"Setup complete. Using torch {torch.__version__} ({torch.cuda.get_device_properties(0).name if torch.cuda.is_available() else 'CPU'})\")"
      ],
      "execution_count": null,
      "outputs": []
    },
    {
      "cell_type": "markdown",
      "metadata": {
        "id": "pZHu63prCyxP"
      },
      "source": [
        "# Passo 2: Download do dataset"
      ]
    },
    {
      "cell_type": "code",
      "metadata": {
        "id": "andunDzidOUp",
        "colab": {
          "base_uri": "https://localhost:8080/"
        },
        "outputId": "76e75e37-1912-4a99-a1dc-90814e2a4df7"
      },
      "source": [
        "!wget https://github.com/jsansao/ChessPiecesv23_YoloV5/archive/refs/heads/main.zip -O ChessPieces.zip\n",
        "!unzip ChessPieces.zip -d /content/\n",
        "!mv /content/ChessPiecesV23_YoloV5-main/* /content/"
      ],
      "execution_count": null,
      "outputs": [
        {
          "output_type": "stream",
          "name": "stdout",
          "text": [
            "--2021-11-22 02:32:19--  https://github.com/jsansao/ChessPiecesv23_YoloV5/archive/refs/heads/main.zip\n",
            "Resolving github.com (github.com)... 52.192.72.89\n",
            "Connecting to github.com (github.com)|52.192.72.89|:443... connected.\n",
            "HTTP request sent, awaiting response... 302 Found\n",
            "Location: https://codeload.github.com/jsansao/ChessPiecesV23_YoloV5/zip/refs/heads/main [following]\n",
            "--2021-11-22 02:32:19--  https://codeload.github.com/jsansao/ChessPiecesV23_YoloV5/zip/refs/heads/main\n",
            "Resolving codeload.github.com (codeload.github.com)... 52.193.111.178\n",
            "Connecting to codeload.github.com (codeload.github.com)|52.193.111.178|:443... connected.\n",
            "HTTP request sent, awaiting response... 200 OK\n",
            "Length: 80855882 (77M) [application/zip]\n",
            "Saving to: ‘ChessPieces.zip’\n",
            "\n",
            "ChessPieces.zip     100%[===================>]  77.11M  22.4MB/s    in 3.4s    \n",
            "\n",
            "2021-11-22 02:32:23 (22.4 MB/s) - ‘ChessPieces.zip’ saved [80855882/80855882]\n",
            "\n",
            "Archive:  ChessPieces.zip\n",
            "40e7a8936666b780a8ad6f862dc057f2751d98cf\n",
            "replace /content/ChessPiecesV23_YoloV5-main/README.dataset.txt? [y]es, [n]o, [A]ll, [N]one, [r]ename: "
          ]
        }
      ]
    },
    {
      "cell_type": "markdown",
      "metadata": {
        "id": "X7yAi9hd-T4B"
      },
      "source": [
        "## Passo 3: Treinamento do modelo no YOLOv5\n",
        "\n",
        "Podemos definir alguns parâmetros:\n",
        "\n",
        "- **img:** tamanho da imagem de entrada\n",
        "- **batch:** tamanho do lote\n",
        "- **epochs:** Épocas de treinamento. (Note: often, 3000+ are common here!)\n",
        "- **data:** Caminho do dataset\n",
        "- **weights:** Inicialização dos pesos. No exemplo, usamos o modelo COCO pretreinado.\n",
        "- **cache:** Faz cache das imagens para aceleração do processamento"
      ]
    },
    {
      "cell_type": "code",
      "metadata": {
        "id": "eaFNnxLJbq4J"
      },
      "source": [
        "!python train.py --img 416 --batch 16 --epochs 150 --data /content/data.yaml --weights yolov5s.pt --cache"
      ],
      "execution_count": null,
      "outputs": []
    },
    {
      "cell_type": "markdown",
      "metadata": {
        "id": "AcIRLQOlA14A"
      },
      "source": [
        "# Avaliação de desempenho do YOLOv5 \n"
      ]
    },
    {
      "cell_type": "code",
      "metadata": {
        "id": "1jS9_BxdBBHL"
      },
      "source": [
        "# Start tensorboard\n",
        "# Launch after you have started training\n",
        "# logs save in the folder \"runs\"\n",
        "%load_ext tensorboard\n",
        "%tensorboard --logdir runs"
      ],
      "execution_count": null,
      "outputs": []
    },
    {
      "cell_type": "markdown",
      "metadata": {
        "id": "jtmS7_TXFsT3"
      },
      "source": [
        "# Infererência com os pesos treinados: \n",
        "\n",
        "Roda a inferência no conteúdo do diretório `test/images/`\n"
      ]
    },
    {
      "cell_type": "code",
      "metadata": {
        "id": "TWjjiBcic3Vz"
      },
      "source": [
        "!python detect.py --weights runs/train/exp/weights/best.pt --img 416 --conf 0.1 --source /content/test/images"
      ],
      "execution_count": null,
      "outputs": []
    },
    {
      "cell_type": "code",
      "metadata": {
        "id": "ZbUn4_b9GCKO"
      },
      "source": [
        "#display inference on ALL test images\n",
        "\n",
        "import glob\n",
        "from IPython.display import Image, display\n",
        "\n",
        "for imageName in glob.glob('/content/yolov5/runs/detect/exp2/*.jpg'): #assuming JPG\n",
        "    display(Image(filename=imageName))\n",
        "    print(\"\\n\")"
      ],
      "execution_count": null,
      "outputs": []
    }
  ]
}