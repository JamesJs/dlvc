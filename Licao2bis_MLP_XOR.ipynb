{
  "nbformat": 4,
  "nbformat_minor": 0,
  "metadata": {
    "colab": {
      "name": "Licao2bis_MLP_XOR.ipynb",
      "provenance": [],
      "collapsed_sections": [],
      "authorship_tag": "ABX9TyM11BdoL1B3uylDRe0Ub0bP",
      "include_colab_link": true
    },
    "kernelspec": {
      "name": "python3",
      "display_name": "Python 3"
    },
    "language_info": {
      "name": "python"
    }
  },
  "cells": [
    {
      "cell_type": "markdown",
      "metadata": {
        "id": "view-in-github",
        "colab_type": "text"
      },
      "source": [
        "<a href=\"https://colab.research.google.com/github/jsansao/dlvc/blob/gh-pages/Licao2bis_MLP_XOR.ipynb\" target=\"_parent\"><img src=\"https://colab.research.google.com/assets/colab-badge.svg\" alt=\"Open In Colab\"/></a>"
      ]
    },
    {
      "cell_type": "code",
      "metadata": {
        "id": "-VS4Dh1KKsNl"
      },
      "source": [
        "import numpy as np\n",
        "import tensorflow as tf\n",
        "from tensorflow import keras\n",
        "import matplotlib.pyplot as plt"
      ],
      "execution_count": 67,
      "outputs": []
    },
    {
      "cell_type": "code",
      "metadata": {
        "id": "6ru_UR_lJ6j2"
      },
      "source": [
        "!wget https://github.com/jsansao/dlvc/raw/main/Licao2bis_MLP_XOR.tar.gz\n",
        "!tar -zxvf Licao2bis_MLP_XOR.tar.gz"
      ],
      "execution_count": null,
      "outputs": []
    },
    {
      "cell_type": "code",
      "metadata": {
        "id": "b76bi2_hLM1A"
      },
      "source": [
        "from numpy import genfromtxt\n",
        "train_data = genfromtxt('train_data.csv', delimiter=',')\n",
        "train_label = genfromtxt('train_label.csv', delimiter=',')\n",
        "\n",
        "test_data = genfromtxt('test_data.csv', delimiter=',')\n",
        "test_label = genfromtxt('test_label.csv', delimiter=',')\n"
      ],
      "execution_count": 177,
      "outputs": []
    },
    {
      "cell_type": "code",
      "metadata": {
        "id": "JeKziF-ueVxe"
      },
      "source": [
        "plt.scatter(train_data[:,0], train_data[:,1], c=train_label , alpha=0.5)\n",
        "plt.show()\n",
        "plt.scatter(test_data[:,0], test_data[:,1], c=test_label , alpha=0.5)\n",
        "plt.show()"
      ],
      "execution_count": null,
      "outputs": []
    },
    {
      "cell_type": "code",
      "metadata": {
        "id": "efpzfUhQMHWu"
      },
      "source": [
        "model = tf.keras.Sequential([keras.layers.Dense(units=1, input_shape=[2])])\n",
        "model.compile(optimizer='sgd', loss='mean_squared_error', metrics=['accuracy'])\n",
        "\n",
        "model.fit(train_data, train_label, epochs=50)\n",
        "\n",
        "model.summary()"
      ],
      "execution_count": null,
      "outputs": []
    },
    {
      "cell_type": "code",
      "metadata": {
        "id": "gorxQzOt8Efo"
      },
      "source": [
        "test_predict = model.predict(test_data)\n",
        "\n",
        "plt.scatter(test_data[:,0], test_data[:,1], c=test_predict , cmap='jet')\n",
        "plt.show()"
      ],
      "execution_count": null,
      "outputs": []
    },
    {
      "cell_type": "code",
      "metadata": {
        "id": "YGwN05bXNXGp"
      },
      "source": [
        "model2 = tf.keras.Sequential([tf.keras.layers.Dense(16, activation=tf.nn.relu, input_shape=[2]),                                                                     \n",
        "                              tf.keras.layers.Dense(1, activation=tf.nn.sigmoid)])\n",
        "model2.compile(optimizer='sgd', loss='mean_squared_error', metrics=['accuracy'])\n",
        "\n",
        "#model2.fit(train_data, train_label, epochs=500)\n",
        "\n",
        "\n",
        "history = model2.fit(train_data, train_label,\n",
        "                    batch_size=20,\n",
        "                    epochs=40,\n",
        "                    verbose=1,\n",
        "                    validation_data=(test_data, test_label))\n",
        "\n",
        "model2.summary()"
      ],
      "execution_count": null,
      "outputs": []
    },
    {
      "cell_type": "code",
      "metadata": {
        "id": "Ls60pOJHiDi9"
      },
      "source": [
        "fig, ax = plt.subplots(1,2, figsize=(16,8))\n",
        "ax[0].plot(history.history['loss'], color='b', label=\"Training loss\")\n",
        "ax[0].plot(history.history['val_loss'], color='r', label=\"validation loss\",axes =ax[0])\n",
        "legend = ax[0].legend(loc='best', shadow=True)\n",
        "\n",
        "ax[1].plot(history.history['accuracy'], color='b', label=\"Training accuracy\")\n",
        "ax[1].plot(history.history['val_accuracy'], color='r',label=\"Validation accuracy\")\n",
        "legend = ax[1].legend(loc='best', shadow=True)\n",
        "\n"
      ],
      "execution_count": null,
      "outputs": []
    },
    {
      "cell_type": "code",
      "metadata": {
        "id": "iQ6E3tuN8h6h"
      },
      "source": [
        "\n",
        "test_predict2 = model2.predict(test_data)\n",
        "\n",
        "plt.scatter(test_data[:,0], test_data[:,1], c=test_predict2, cmap='jet')\n",
        "plt.show()"
      ],
      "execution_count": null,
      "outputs": []
    }
  ]
}